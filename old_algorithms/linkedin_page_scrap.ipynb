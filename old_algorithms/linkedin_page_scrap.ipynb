{
 "cells": [
  {
   "cell_type": "code",
   "execution_count": 1,
   "metadata": {},
   "outputs": [],
   "source": [
    "from selenium import webdriver\n",
    "from selenium.webdriver.chrome.service import Service\n",
    "from webdriver_manager.chrome import ChromeDriverManager\n",
    "import os\n",
    "\n",
    "from selenium.webdriver.common.keys import Keys\n",
    "from selenium.webdriver.common.by import By\n",
    "from selenium.webdriver.support import expected_conditions as EC\n",
    "from selenium.webdriver.support.ui import WebDriverWait\n",
    "import time\n",
    "\n",
    "%reload_ext dotenv"
   ]
  },
  {
   "cell_type": "code",
   "execution_count": 7,
   "metadata": {},
   "outputs": [],
   "source": [
    "driver = webdriver.Chrome(service=Service(ChromeDriverManager().install()))"
   ]
  },
  {
   "cell_type": "markdown",
   "metadata": {},
   "source": [
    "# LOGIN"
   ]
  },
  {
   "cell_type": "code",
   "execution_count": 8,
   "metadata": {},
   "outputs": [],
   "source": [
    "url = '''https://www.linkedin.com/company/soujunior/posts/?feedView=all'''\n",
    "driver.get(url)"
   ]
  },
  {
   "cell_type": "code",
   "execution_count": 9,
   "metadata": {},
   "outputs": [],
   "source": [
    "xpath_login = \"/html/body/div/main/div[2]/div[1]/form/div[1]/input\"\n",
    "xpath_password = \"/html/body/div/main/div[2]/div[1]/form/div[2]/input\"\n",
    "xpath_submit = \"/html/body/div/main/div[2]/div[1]/form/div[3]/button\"\n",
    "\n",
    "login_linkedin = os.getenv(\"LOGIN_LINKEDIN\")\n",
    "password_linkedin = os.getenv(\"PASSWORD_LINKEDIN\")"
   ]
  },
  {
   "cell_type": "code",
   "execution_count": 10,
   "metadata": {},
   "outputs": [],
   "source": [
    "input_login = WebDriverWait(driver, 10).until(EC.element_to_be_clickable((By.XPATH, xpath_login)))\n",
    "input_password = WebDriverWait(driver, 10).until(EC.element_to_be_clickable((By.XPATH, xpath_password)))\n",
    "input_submit = WebDriverWait(driver, 10).until(EC.element_to_be_clickable((By.XPATH, xpath_submit)))"
   ]
  },
  {
   "cell_type": "code",
   "execution_count": 11,
   "metadata": {},
   "outputs": [],
   "source": [
    "input_login.clear()\n",
    "input_password.clear()\n",
    "\n",
    "input_login.send_keys(login_linkedin)\n",
    "input_password.send_keys(password_linkedin)\n",
    "input_submit.click()"
   ]
  },
  {
   "cell_type": "code",
   "execution_count": 22,
   "metadata": {},
   "outputs": [],
   "source": [
    "# sort by date\n",
    "class_sort = \"sort-dropdown__dropdown\"\n",
    "\n",
    "sort_div = WebDriverWait(driver, 10).until(\n",
    "    EC.element_to_be_clickable((By.CLASS_NAME, class_sort))\n",
    ")\n",
    "\n",
    "sort_button = sort_div.find_element(By.TAG_NAME, \"button\")\n",
    "sort_button.click()\n",
    "\n",
    "sort_by_date = sort_div.find_elements(By.TAG_NAME, \"li\")[1]\n",
    "sort_by_date.click()"
   ]
  },
  {
   "cell_type": "markdown",
   "metadata": {},
   "source": [
    "# SCRAP"
   ]
  },
  {
   "cell_type": "code",
   "execution_count": 23,
   "metadata": {},
   "outputs": [],
   "source": [
    "body = driver.find_element(By.TAG_NAME, \"body\")\n",
    "\n",
    "for _ in range(70):\n",
    "    body.send_keys(Keys.PAGE_DOWN)\n",
    "\n",
    "    time.sleep(2)"
   ]
  },
  {
   "cell_type": "code",
   "execution_count": 27,
   "metadata": {},
   "outputs": [],
   "source": [
    "class_feed_posts = \"scaffold-finite-scroll__content\"\n",
    "\n",
    "feed_posts = driver.find_element(By.CLASS_NAME, class_feed_posts)\n",
    "\n",
    "posts = feed_posts.find_elements(By.XPATH, './div')\n"
   ]
  },
  {
   "cell_type": "code",
   "execution_count": 37,
   "metadata": {},
   "outputs": [],
   "source": [
    "# save posts to html\n",
    "output_folder = input(\"Output: \")\n",
    "os.mkdir(f\"linkedin_page/scraps/{output_folder}\")\n",
    "os.mkdir(f\"linkedin_page/scraps/{output_folder}/profile_pics\")\n",
    "\n",
    "screenshoted_author_list = []\n",
    "for index, post in enumerate(posts):\n",
    "\n",
    "    author = post.find_elements(By.CLASS_NAME, \"update-components-actor__name\")\n",
    "\n",
    "    # validation\n",
    "    if author:\n",
    "        author_name = author[0].find_element(By.CLASS_NAME, \"visually-hidden\").text\n",
    "    else:\n",
    "        continue\n",
    "    \n",
    "    if author_name not in screenshoted_author_list:\n",
    "        img = post.find_element(By.CLASS_NAME, 'update-components-actor__avatar-image')\n",
    "        img_path = f\"linkedin_page/scraps/{output_folder}/profile_pics/{author_name}.png\"\n",
    "        img.screenshot(f\"linkedin_page/scraps/{output_folder}/profile_pics/{author_name}.png\")\n",
    "\n",
    "        screenshoted_author_list.append(author_name)\n",
    "\n",
    "    # save post\n",
    "    with open(f'linkedin_page/scraps/{output_folder}/post_{index}.html', 'w', encoding='utf-8') as file:\n",
    "        file.write(f'<p>{author_name}</p>\\n')\n",
    "        file.write(post.get_attribute('outerHTML'))"
   ]
  }
 ],
 "metadata": {
  "kernelspec": {
   "display_name": "Python 3",
   "language": "python",
   "name": "python3"
  },
  "language_info": {
   "codemirror_mode": {
    "name": "ipython",
    "version": 3
   },
   "file_extension": ".py",
   "mimetype": "text/x-python",
   "name": "python",
   "nbconvert_exporter": "python",
   "pygments_lexer": "ipython3",
   "version": "3.11.6"
  }
 },
 "nbformat": 4,
 "nbformat_minor": 2
}
