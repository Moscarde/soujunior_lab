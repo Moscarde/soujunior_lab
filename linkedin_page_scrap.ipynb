{
 "cells": [
  {
   "cell_type": "code",
   "execution_count": 1,
   "metadata": {},
   "outputs": [],
   "source": [
    "from selenium import webdriver\n",
    "from selenium.webdriver.chrome.service import Service\n",
    "from webdriver_manager.chrome import ChromeDriverManager\n",
    "from bs4 import BeautifulSoup\n",
    "import numpy as np\n",
    "import pandas as pd\n",
    "import os\n",
    "\n",
    "from selenium.webdriver.common.keys import Keys\n",
    "from selenium.webdriver.common.by import By\n",
    "from selenium.webdriver.support import expected_conditions as EC\n",
    "from selenium.webdriver.support.ui import WebDriverWait\n",
    "import time\n",
    "\n",
    "%reload_ext dotenv"
   ]
  },
  {
   "cell_type": "code",
   "execution_count": 2,
   "metadata": {},
   "outputs": [],
   "source": [
    "driver = webdriver.Chrome(service=Service(ChromeDriverManager().install()))"
   ]
  },
  {
   "cell_type": "markdown",
   "metadata": {},
   "source": [
    "# LOGIN"
   ]
  },
  {
   "cell_type": "code",
   "execution_count": 3,
   "metadata": {},
   "outputs": [],
   "source": [
    "url = '''https://www.linkedin.com/company/soujunior/posts/?feedView=all'''\n",
    "driver.get(url)"
   ]
  },
  {
   "cell_type": "code",
   "execution_count": 4,
   "metadata": {},
   "outputs": [],
   "source": [
    "xpath_login = \"/html/body/div/main/div[2]/div[1]/form/div[1]/input\"\n",
    "xpath_password = \"/html/body/div/main/div[2]/div[1]/form/div[2]/input\"\n",
    "xpath_submit = \"/html/body/div/main/div[2]/div[1]/form/div[3]/button\"\n",
    "\n",
    "login_linkedin = os.getenv(\"LOGIN_LINKEDIN\")\n",
    "password_linkedin = os.getenv(\"PASSWORD_LINKEDIN\")"
   ]
  },
  {
   "cell_type": "code",
   "execution_count": 5,
   "metadata": {},
   "outputs": [],
   "source": [
    "input_login = WebDriverWait(driver, 10).until(EC.element_to_be_clickable((By.XPATH, xpath_login)))\n",
    "input_password = WebDriverWait(driver, 10).until(EC.element_to_be_clickable((By.XPATH, xpath_password)))\n",
    "input_submit = WebDriverWait(driver, 10).until(EC.element_to_be_clickable((By.XPATH, xpath_submit)))"
   ]
  },
  {
   "cell_type": "code",
   "execution_count": 6,
   "metadata": {},
   "outputs": [],
   "source": [
    "input_login.clear()\n",
    "input_password.clear()\n",
    "\n",
    "input_login.send_keys(login_linkedin)\n",
    "input_password.send_keys(password_linkedin)\n",
    "input_submit.click()"
   ]
  },
  {
   "cell_type": "markdown",
   "metadata": {},
   "source": [
    "# SCRAP"
   ]
  },
  {
   "cell_type": "code",
   "execution_count": 26,
   "metadata": {},
   "outputs": [],
   "source": [
    "body = driver.find_element(By.TAG_NAME, \"body\")\n",
    "\n",
    "for _ in range(20):\n",
    "    body.send_keys(Keys.PAGE_DOWN)\n",
    "\n",
    "    time.sleep(2)"
   ]
  },
  {
   "cell_type": "code",
   "execution_count": 29,
   "metadata": {},
   "outputs": [
    {
     "name": "stdout",
     "output_type": "stream",
     "text": [
      "12\n"
     ]
    }
   ],
   "source": [
    "xpath_feed_posts = \"/html/body/div[5]/div[3]/div/div[2]/div/div[2]/main/div[2]/div/div[2]/div[3]/div/div[1]\"\n",
    "\n",
    "feed_posts = driver.find_element('xpath', xpath_feed_posts)\n",
    "\n",
    "posts = feed_posts.find_elements(By.XPATH, './div')\n",
    "\n",
    "print(len(posts))"
   ]
  },
  {
   "cell_type": "code",
   "execution_count": 15,
   "metadata": {},
   "outputs": [
    {
     "data": {
      "text/plain": [
       "True"
      ]
     },
     "execution_count": 15,
     "metadata": {},
     "output_type": "execute_result"
    }
   ],
   "source": [
    "#printando a imagem do autor\n",
    "img = posts[0].find_element(By.CLASS_NAME, 'update-components-actor__avatar-image')\n",
    "\n",
    "#salvando a imagem\n",
    "img.screenshot(\"screenshot.png\")"
   ]
  },
  {
   "cell_type": "code",
   "execution_count": 33,
   "metadata": {},
   "outputs": [
    {
     "data": {
      "text/plain": [
       "'Dener Garcia 🧑🏻\\u200d💻'"
      ]
     },
     "execution_count": 33,
     "metadata": {},
     "output_type": "execute_result"
    }
   ],
   "source": [
    "name = posts[4].find_element(By.CLASS_NAME, \"update-components-actor__name\")\n",
    "name = name.find_element(By.CLASS_NAME, \"visually-hidden\").text\n",
    "name"
   ]
  },
  {
   "cell_type": "code",
   "execution_count": 46,
   "metadata": {},
   "outputs": [],
   "source": [
    "#individual\n",
    "for index, post in enumerate(posts):\n",
    "    author = []\n",
    "    author = post.find_elements(By.CLASS_NAME, \"update-components-actor__name\")\n",
    "\n",
    "    # validation\n",
    "    if author:\n",
    "        author_name = author[0].find_element(By.CLASS_NAME, \"visually-hidden\").text\n",
    "    else:\n",
    "        continue\n",
    "\n",
    "    img = post.find_element(By.CLASS_NAME, 'update-components-actor__avatar-image')\n",
    "\n",
    "    # save post author image\n",
    "    img_path = f\"linkedin_page/scraps/03/profile_pics/{author_name}.png\"\n",
    "    if not os.path.exists(img_path):\n",
    "        img.screenshot(f\"linkedin_page/scraps/03/profile_pics/{author_name}.png\")\n",
    "\n",
    "    # save post\n",
    "    with open(f'linkedin_page/scraps/03/post_{index}.html', 'w', encoding='utf-8') as file:\n",
    "        file.write(f'<p>{author_name}</p>\\n')\n",
    "        file.write(post.get_attribute('outerHTML'))"
   ]
  }
 ],
 "metadata": {
  "kernelspec": {
   "display_name": "Python 3",
   "language": "python",
   "name": "python3"
  },
  "language_info": {
   "codemirror_mode": {
    "name": "ipython",
    "version": 3
   },
   "file_extension": ".py",
   "mimetype": "text/x-python",
   "name": "python",
   "nbconvert_exporter": "python",
   "pygments_lexer": "ipython3",
   "version": "3.11.6"
  }
 },
 "nbformat": 4,
 "nbformat_minor": 2
}
