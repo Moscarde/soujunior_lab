{
 "cells": [
  {
   "cell_type": "code",
   "execution_count": 1,
   "metadata": {},
   "outputs": [],
   "source": [
    "import pandas as pd"
   ]
  },
  {
   "cell_type": "code",
   "execution_count": 5,
   "metadata": {},
   "outputs": [],
   "source": [
    "csv_file = pd.read_csv(\"model_linkedin_data_content.csv\")\n",
    "xls_file = pd.read_excel(\"junior-junior-junior_content_1701281438381.xls\", skiprows=1)\n"
   ]
  },
  {
   "cell_type": "code",
   "execution_count": 6,
   "metadata": {},
   "outputs": [
    {
     "name": "stdout",
     "output_type": "stream",
     "text": [
      "Index(['Data', 'Impressões (orgânicas)', 'Impressões (patrocinadas)',\n",
      "       'Impressões (total)', 'Impressões únicas (orgânicas)',\n",
      "       'Cliques (orgânicos)', 'Cliques (patrocinados)', 'Cliques (total)',\n",
      "       'Reações (orgânicas)', 'Reações (patrocinadas)', 'Reações (total)',\n",
      "       'Comentários (orgânicos)', 'Comentários (patrocinados)',\n",
      "       'Comentários (total)', 'Compartilhamentos (orgânicos)',\n",
      "       'Compartilhamentos (patrocinados)', 'Compartilhamentos (total)',\n",
      "       'Taxa de engajamento (orgânico)', 'Taxa de engajamento (patrocinado)',\n",
      "       'Taxa de engajamento (total)'],\n",
      "      dtype='object')\n",
      "Index(['Data', 'Impressões (orgânicas)', 'Impressões (patrocinadas)',\n",
      "       'Impressões (total)', 'Impressões únicas (orgânicas)',\n",
      "       'Cliques (orgânicos)', 'Cliques (patrocinados)', 'Cliques (total)',\n",
      "       'Reações (orgânicas)', 'Reações (patrocinadas)', 'Reações (total)',\n",
      "       'Comentários (orgânicos)', 'Comentários (patrocinados)',\n",
      "       'Comentários (total)', 'Compartilhamentos (orgânicos)',\n",
      "       'Compartilhamentos (patrocinados)', 'Compartilhamentos (total)',\n",
      "       'Taxa de engajamento (orgânico)', 'Taxa de engajamento (patrocinado)',\n",
      "       'Taxa de engajamento (total)'],\n",
      "      dtype='object')\n"
     ]
    }
   ],
   "source": [
    "print(csv_file.columns)\n",
    "print(xls_file.columns)"
   ]
  },
  {
   "cell_type": "code",
   "execution_count": null,
   "metadata": {},
   "outputs": [],
   "source": [
    "\n",
    "\n",
    "\"\"\"\n",
    "- Data;\n",
    "- Impressões (orgânicas);\n",
    "- Impressões (patrocinadas) ;\n",
    "- Impressões (total);\n",
    "- Impressões únicas (orgânicas);\n",
    "- Cliques (orgânicos);\n",
    "- Cliques (patrocinados);\n",
    "- Cliques (total);\n",
    "- Reações (orgânicas);\n",
    "- Reações (patrocinadas);\n",
    "- Reações (total);\n",
    "- Comentários (orgânicos);\n",
    "- Comentários (patrocinados);\n",
    "- Comentários (total);\n",
    "- Compartilhamentos (orgânicos);\n",
    "- Compartilhamentos (patrocinados);\n",
    "- Compartilhamentos (total);\n",
    "- Taxa de engajamento (orgânico);\n",
    "- Taxa de engajamento (patrocinado);\n",
    "- Taxa de engajamento (total);\n",
    "\n",
    "\"\"\""
   ]
  }
 ],
 "metadata": {
  "kernelspec": {
   "display_name": "venv",
   "language": "python",
   "name": "python3"
  },
  "language_info": {
   "codemirror_mode": {
    "name": "ipython",
    "version": 3
   },
   "file_extension": ".py",
   "mimetype": "text/x-python",
   "name": "python",
   "nbconvert_exporter": "python",
   "pygments_lexer": "ipython3",
   "version": "3.11.6"
  }
 },
 "nbformat": 4,
 "nbformat_minor": 2
}
